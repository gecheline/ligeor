{
 "cells": [
  {
   "cell_type": "code",
   "execution_count": 2,
   "id": "fec27356",
   "metadata": {},
   "outputs": [],
   "source": [
    "import numpy as np\n",
    "import matplotlib.pyplot as plt\n",
    "from operator import itemgetter\n",
    "from itertools import groupby\n",
    "from scipy.optimize import minimize"
   ]
  },
  {
   "cell_type": "code",
   "execution_count": 31,
   "id": "98aabe24",
   "metadata": {},
   "outputs": [],
   "source": [
    "class Polychain:\n",
    "    def __init__(self, data, xmin=-0.5, xmax=0.5, polyorder=2, chain_length=4):\n",
    "        if polyorder != 2:\n",
    "            raise NotImplemented('polyorder != 2 is not yet implemented.')\n",
    "        if chain_length != 4:\n",
    "            raise NotImplemented('chain_length != 4 is not yet implemented.')\n",
    "\n",
    "        self.data = data\n",
    "        self.xmin = xmin\n",
    "        self.xmax = xmax\n",
    "        self.polyorder = polyorder\n",
    "        self.chain_length = chain_length\n",
    "        \n",
    "        self.sdata = data[data[:,0].argsort()]\n",
    "        \n",
    "    def _find_knots(self, min_chain_length=8, verbose=False):\n",
    "        mean = self.sdata[:,1].mean()\n",
    "        lt = np.where(self.sdata[:,1]<mean)[0]\n",
    "        \n",
    "        chains = []\n",
    "        for k, g in groupby(enumerate(lt), lambda ix: ix[0]-ix[1]):\n",
    "            chain = list(map(itemgetter(1), g))\n",
    "            if len(chain) > min_chain_length:\n",
    "                chains.append(chain)\n",
    "        if verbose:\n",
    "            print(f'{len(chains)} chains found.')\n",
    "        if len(chains) < 2:\n",
    "            self.knots = np.array((-0.4, -0.1, 0.1, 0.4))\n",
    "        elif len(chains) == 2:\n",
    "            self.knots = np.sort((self.sdata[chains[0][0],0], self.sdata[chains[0][-1],0], self.sdata[chains[1][0],0], self.sdata[chains[1][-1],0]))\n",
    "        else:\n",
    "            lengths = np.array([len(chain) in chains])\n",
    "            l = np.argsort(lengths)[::-1]\n",
    "            self.knots = np.sort((self.sdata[chains[l[0]][0],0], self.sdata[chains[l[0]][-1],0], self.sdata[chains[l[1]][0],0], self.sdata[chains[l[1]][-1],0]))\n",
    "\n",
    "        return self.knots\n",
    "    \n",
    "    def _find_segments(self, knots):\n",
    "        self.sdata = self.data.copy()\n",
    "        self.sdata[:,0][self.sdata[:,0] < knots[0]] += 1\n",
    "        self.sdata = self.sdata[self.sdata[:,0].argsort()]\n",
    "\n",
    "        segs = [np.argmax(self.sdata[:,0]>knot) for knot in knots[1:]] + [len(self.sdata)]\n",
    "        return segs\n",
    "\n",
    "    def _build_A_matrix(self, knots, segs):\n",
    "        self.A = np.zeros(shape=(len(self.sdata), 9))\n",
    "\n",
    "        self.A[:segs[0],0] = self.sdata[:segs[0],0]**2\n",
    "        self.A[segs[0]:,0] = knots[1]**2\n",
    "        self.A[:segs[0],1] = self.sdata[:segs[0],0]\n",
    "        self.A[segs[0]:,1] = knots[1]\n",
    "        self.A[:,2] = 1.0\n",
    "\n",
    "        for k in range(3):\n",
    "            self.A[segs[k]:segs[k+1],3+2*k] = self.sdata[segs[k]:segs[k+1],0]**2-knots[k+1]**2\n",
    "            self.A[segs[k]:segs[k+1],4+2*k] = self.sdata[segs[k]:segs[k+1],0]-knots[k+1]\n",
    "            for j in range(k):\n",
    "                self.A[segs[k]:segs[k+1],3+2*j] = knots[j+2]**2-knots[j+1]**2\n",
    "                self.A[segs[k]:segs[k+1],4+2*j] = knots[j+2]-knots[j+1]\n",
    "\n",
    "        return self.A\n",
    "    \n",
    "    def _fit_chain(self, knots, min_pts_per_segment=5, return_ck=False):\n",
    "        segs = self._find_segments(knots)\n",
    "        if np.ediff1d(segs).min() < min_pts_per_segment:\n",
    "            return 1e10\n",
    "\n",
    "        A = self._build_A_matrix(knots, segs)\n",
    "        ck, ssr, rank, svd = np.linalg.lstsq(self.A, self.sdata[:,1], rcond=None)\n",
    "\n",
    "        if return_ck:\n",
    "            return ck, ssr\n",
    "        return ssr\n",
    "    \n",
    "    def _chain_coeffs(self, ck, verbose=False):\n",
    "        c0 = ck[2]\n",
    "        c1 = (ck[0]-ck[3])*self.knots[1]**2 + (ck[1]-ck[4])*self.knots[1] + c0\n",
    "        c2 = (ck[3]-ck[5])*self.knots[2]**2 + (ck[4]-ck[6])*self.knots[2] + c1\n",
    "        c3 = (ck[5]-ck[7])*self.knots[3]**2 + (ck[6]-ck[8])*self.knots[3] + c2\n",
    "\n",
    "        if verbose:\n",
    "            print(f'segment 1:\\n {self.knots[0]} < x <= {self.knots[1]}, a0={ck[0]} b0={ck[1]} c0={c0}')\n",
    "            print(f'segment 2:\\n {self.knots[1]} < x <= {self.knots[2]}, a0={ck[3]} b0={ck[4]} c0={c1}')\n",
    "            print(f'segment 3:\\n {self.knots[2]} < x <= {self.knots[3]}, a0={ck[5]} b0={ck[6]} c0={c2}')\n",
    "            print(f'segment 4:\\n {self.knots[3]} < x <= {self.knots[0]+1}, a0={ck[7]} b0={ck[8]} c0={c3}')\n",
    "\n",
    "        self.coeffs = ((ck[0], ck[1], c0), (ck[3], ck[4], c1), (ck[5], ck[6], c2), (ck[7], ck[8], c3))\n",
    "    \n",
    "    def _chain_extremes(self):\n",
    "        exts_x = [-c[1]/2/c[0] for c in self.coeffs]\n",
    "        knots = np.concatenate((self.knots, [self.knots[0]+1]))\n",
    "        exts_x = np.array(exts_x)\n",
    "        exts_y = np.zeros(len(exts_x))\n",
    "        for k in range(4):\n",
    "            if exts_x[k] < knots[k] or exts_x[k] > knots[k+1]:\n",
    "                exts_x[k] = np.nan\n",
    "            c = self.coeffs[k]\n",
    "            exts_y[k] = c[0]*exts_x[k]**2 + c[1]*exts_x[k] + c[2]\n",
    "        self.extremes = np.array([exts_x, exts_y]).T\n",
    "    \n",
    "    def _remap(self, d, sort=True):\n",
    "        ncols = 1 if len(d.shape) == 1 else d.shape[1]\n",
    "        x = d if ncols == 1 else d[:,0]\n",
    "\n",
    "        while len(x[x<self.xmin]) > 0:\n",
    "            x[x<self.xmin] += 1\n",
    "        while len(x[x>self.xmax]) > 0:\n",
    "            x[x>self.xmax] -= 1\n",
    "\n",
    "        if sort and ncols > 1:\n",
    "            d = d[d[:,0].argsort()]\n",
    "        else:\n",
    "            d.sort()\n",
    "\n",
    "        return d      \n",
    "    \n",
    "    def fit(self, min_chain_length=8, min_pts_per_segment=5, verbose=False):\n",
    "        self._find_knots(min_chain_length=min_chain_length, verbose=verbose)\n",
    "        solution = minimize(self._fit_chain, self.knots, args=(min_pts_per_segment,), method='Nelder-Mead')\n",
    "        self.knots = solution.x\n",
    "        ck, self.ssr = self._fit_chain(self.knots, min_pts_per_segment=min_pts_per_segment, return_ck=True)\n",
    "        self._chain_coeffs(ck)\n",
    "        self._chain_extremes()\n",
    "        \n",
    "        return self.knots, self.coeffs, self.extremes\n",
    "    \n",
    "    def fv(self, x):\n",
    "        x[x<self.knots[0]] += 1\n",
    "        y = np.empty_like(x)\n",
    "        for k in range(len(self.knots)-1):\n",
    "            s = (x>=self.knots[k]) & (x<self.knots[k+1])\n",
    "            y[s] = self.coeffs[k][0]*x[s]**2 + self.coeffs[k][1]*x[s] + self.coeffs[k][2]\n",
    "        s = x>=self.knots[3]\n",
    "        y[s] = self.coeffs[3][0]*x[s]**2 + self.coeffs[3][1]*x[s] + self.coeffs[3][2]\n",
    "\n",
    "        return y\n",
    "    \n",
    "    def plot(self, x):\n",
    "        if x is None:\n",
    "            x = self.sdata[:,0]\n",
    "    \n",
    "        y = self.fv(x)\n",
    "        d = np.vstack((x, y)).T\n",
    "\n",
    "        self._remap(self.sdata)\n",
    "        d = self._remap(d)\n",
    "        self._remap(self.extremes)\n",
    "\n",
    "        plt.plot(data[:,0], data[:,1], 'b.')\n",
    "        plt.plot(d[:,0], d[:,1], 'r-')\n",
    "\n",
    "        for k in range(4):\n",
    "            plt.axvline(self.extremes[:,0][k], ls='--')\n",
    "        plt.show()\n"
   ]
  },
  {
   "cell_type": "code",
   "execution_count": 85,
   "id": "be80d153",
   "metadata": {},
   "outputs": [
    {
     "name": "stdout",
     "output_type": "stream",
     "text": [
      "(452.37112824705076, 0.7237340423604629, 0.5414331746648339) -0.0007999339449059781\n",
      "(-0.22483544371823347, 0.11335840785439022, 0.9877192199531045) 0.2520919432890936\n",
      "(833.6786806364124, -700.3717254637277, 147.77697626370912) 0.42004895994766167\n",
      "(-0.08999392568115683, 0.13263932708177256, 0.9525831419097699) 0.736934887981806\n"
     ]
    },
    {
     "data": {
      "image/png": "[encoded data removed]",
      "text/plain": [
       "<Figure size 432x288 with 1 Axes>"
      ]
     },
     "metadata": {
      "needs_background": "light"
     },
     "output_type": "display_data"
    },
    {
     "data": {
      "text/plain": [
       "array([0.22188476])"
      ]
     },
     "execution_count": 85,
     "metadata": {},
     "output_type": "execute_result"
    }
   ],
   "source": [
    "data = np.loadtxt('../data/cg12.csv', delimiter=',') #np.loadtxt('lc.dat')\n",
    "pc = Polychain(data)\n",
    "pc.fit()\n",
    "pc.plot(np.linspace(-0.5, 0.5, 201))\n",
    "pc.ssr"
   ]
  },
  {
   "cell_type": "code",
   "execution_count": 86,
   "id": "00827bb9",
   "metadata": {},
   "outputs": [
    {
     "data": {
      "text/plain": [
       "array([-0.0360186 ,  0.0307345 ,  0.40060213,  0.43938569])"
      ]
     },
     "execution_count": 86,
     "metadata": {},
     "output_type": "execute_result"
    }
   ],
   "source": [
    "pc.knots"
   ]
  },
  {
   "cell_type": "code",
   "execution_count": 87,
   "id": "ba60dd60",
   "metadata": {},
   "outputs": [
    {
     "data": {
      "text/plain": [
       "((452.37112824705076, 0.7237340423604629, 0.5414331746648339),\n",
       " (-0.22483544371823347, 0.11335840785439022, 0.9877192199531045),\n",
       " (833.6786806364124, -700.3717254637277, 147.77697626370912),\n",
       " (-0.08999392568115683, 0.13263932708177256, 0.9525831419097699))"
      ]
     },
     "execution_count": 87,
     "metadata": {},
     "output_type": "execute_result"
    }
   ],
   "source": [
    "pc.coeffs"
   ]
  },
  {
   "cell_type": "code",
   "execution_count": 88,
   "id": "26e79b8a",
   "metadata": {},
   "outputs": [],
   "source": [
    "knots_ext = np.hstack((pc.knots-0.5, pc.knots, pc.knots+0.5))"
   ]
  },
  {
   "cell_type": "code",
   "execution_count": 89,
   "id": "915379a5",
   "metadata": {},
   "outputs": [
    {
     "data": {
      "text/plain": [
       "array([-0.5360186 , -0.4692655 , -0.09939787, -0.06061431, -0.0360186 ,\n",
       "        0.0307345 ,  0.40060213,  0.43938569,  0.4639814 ,  0.5307345 ,\n",
       "        0.90060213,  0.93938569])"
      ]
     },
     "execution_count": 89,
     "metadata": {},
     "output_type": "execute_result"
    }
   ],
   "source": [
    "knots_ext"
   ]
  },
  {
   "cell_type": "code",
   "execution_count": 90,
   "id": "7811a846",
   "metadata": {},
   "outputs": [
    {
     "data": {
      "text/plain": [
       "array([[-7.99933945e-04,  5.41143705e-01],\n",
       "       [ 2.52091943e-01,  1.00200759e+00],\n",
       "       [ 4.20048960e-01,  6.81768835e-01],\n",
       "       [-2.63065112e-01,  1.00145642e+00]])"
      ]
     },
     "execution_count": 90,
     "metadata": {},
     "output_type": "execute_result"
    }
   ],
   "source": [
    "pc.extremes"
   ]
  },
  {
   "cell_type": "code",
   "execution_count": 91,
   "id": "3071b164",
   "metadata": {},
   "outputs": [],
   "source": [
    "eclipse_args = np.argsort(pc.extremes[:,1])[:2]"
   ]
  },
  {
   "cell_type": "code",
   "execution_count": 92,
   "id": "75fa2cd3",
   "metadata": {},
   "outputs": [],
   "source": [
    "knots1 = np.array([knots_ext[eclipse_args[0]+4], knots_ext[eclipse_args[0]+5]])\n",
    "knots2 = np.array([knots_ext[eclipse_args[1]+4], knots_ext[eclipse_args[1]+5]])"
   ]
  },
  {
   "cell_type": "code",
   "execution_count": 93,
   "id": "3269569c",
   "metadata": {},
   "outputs": [
    {
     "data": {
      "text/plain": [
       "0.4006021295119876"
      ]
     },
     "execution_count": 93,
     "metadata": {},
     "output_type": "execute_result"
    }
   ],
   "source": [
    "pc.knots[eclipse_args[1]]"
   ]
  },
  {
   "cell_type": "code",
   "execution_count": 94,
   "id": "e49a712b",
   "metadata": {},
   "outputs": [
    {
     "data": {
      "text/plain": [
       "0.4006021295119876"
      ]
     },
     "execution_count": 94,
     "metadata": {},
     "output_type": "execute_result"
    }
   ],
   "source": [
    "knots_ext[eclipse_args[1]+4]"
   ]
  },
  {
   "cell_type": "code",
   "execution_count": 95,
   "id": "ee165b13",
   "metadata": {},
   "outputs": [
    {
     "data": {
      "text/plain": [
       "array([-0.0360186 ,  0.0307345 ,  0.40060213,  0.43938569])"
      ]
     },
     "execution_count": 95,
     "metadata": {},
     "output_type": "execute_result"
    }
   ],
   "source": [
    "np.hstack((knots1, knots2))"
   ]
  },
  {
   "cell_type": "code",
   "execution_count": 96,
   "id": "79a1c84d",
   "metadata": {},
   "outputs": [
    {
     "data": {
      "text/plain": [
       "array([0.99704878, 0.99348876])"
      ]
     },
     "execution_count": 96,
     "metadata": {},
     "output_type": "execute_result"
    }
   ],
   "source": [
    "pc.fv(knots2)"
   ]
  },
  {
   "cell_type": "code",
   "execution_count": 97,
   "id": "4a381599",
   "metadata": {},
   "outputs": [
    {
     "data": {
      "text/plain": [
       "1.0209431235084963"
      ]
     },
     "execution_count": 97,
     "metadata": {},
     "output_type": "execute_result"
    }
   ],
   "source": [
    "pc.fv(np.hstack((knots1, knots2))).mean()"
   ]
  },
  {
   "cell_type": "code",
   "execution_count": 102,
   "id": "fbbf402c",
   "metadata": {},
   "outputs": [
    {
     "data": {
      "text/plain": [
       "(452.37112824705076, 0.7237340423604629, 0.5414331746648339)"
      ]
     },
     "execution_count": 102,
     "metadata": {},
     "output_type": "execute_result"
    }
   ],
   "source": [
    "pc.coeffs[eclipse_args[0]]"
   ]
  },
  {
   "cell_type": "code",
   "execution_count": 99,
   "id": "20369b28",
   "metadata": {},
   "outputs": [
    {
     "data": {
      "text/plain": [
       "array([], dtype=float64)"
      ]
     },
     "execution_count": 99,
     "metadata": {},
     "output_type": "execute_result"
    }
   ],
   "source": [
    "knots1[knots1<pc.knots[0]]"
   ]
  },
  {
   "cell_type": "code",
   "execution_count": 55,
   "id": "c7b7f679",
   "metadata": {},
   "outputs": [
    {
     "data": {
      "text/plain": [
       "-0.015073441066656527"
      ]
     },
     "execution_count": 55,
     "metadata": {},
     "output_type": "execute_result"
    }
   ],
   "source": [
    "pc.knots[0]"
   ]
  },
  {
   "cell_type": "code",
   "execution_count": 59,
   "id": "3ce11059",
   "metadata": {},
   "outputs": [
    {
     "data": {
      "text/plain": [
       "array([], dtype=float64)"
      ]
     },
     "execution_count": 59,
     "metadata": {},
     "output_type": "execute_result"
    }
   ],
   "source": [
    "np.array(knots1)[knots1 < pc.knots[0]]"
   ]
  },
  {
   "cell_type": "code",
   "execution_count": null,
   "id": "d6353f82",
   "metadata": {},
   "outputs": [],
   "source": []
  }
 ],
 "metadata": {
  "kernelspec": {
   "display_name": "Python 3",
   "language": "python",
   "name": "python3"
  },
  "language_info": {
   "codemirror_mode": {
    "name": "ipython",
    "version": 3
   },
   "file_extension": ".py",
   "mimetype": "text/x-python",
   "name": "python",
   "nbconvert_exporter": "python",
   "pygments_lexer": "ipython3",
   "version": "3.8.5"
  }
 },
 "nbformat": 4,
 "nbformat_minor": 5
}
