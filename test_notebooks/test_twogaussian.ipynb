{
 "cells": [
  {
   "cell_type": "code",
   "execution_count": 1,
   "id": "ee6d8262",
   "metadata": {},
   "outputs": [],
   "source": [
    "from ligeor import TwoGaussianModel as TwoG\n",
    "import numpy as np\n",
    "import matplotlib.pyplot as plt"
   ]
  },
  {
   "cell_type": "code",
   "execution_count": 2,
   "id": "4b827cee",
   "metadata": {},
   "outputs": [],
   "source": [
    "def test_initialize_filename(filename, data):\n",
    "    model = TwoG(filename=filename, n_downsample=1, delimiter=',')\n",
    "    assert(((model.phases == data[:,0]) & (model.fluxes == data[:,1]) & (model.sigmas == data[:,2])).all())\n",
    "\n",
    "    \n",
    "def test_initialize_data(data):\n",
    "    model = TwoG(phases=data[:,0], fluxes=data[:,1], sigmas=data[:,2])\n",
    "    assert(((model.phases == data[:,0]) & (model.fluxes == data[:,1]) & (model.sigmas == data[:,2])).all())\n",
    "    return model\n",
    "\n",
    "\n",
    "def test_estimate_ecl_pos_widths(model, result):\n",
    "    est_positions = model.estimate_eclipse_positions_widths(model.phases, model.fluxes)\n",
    "    estimates = {}\n",
    "    estimates['pos1'] = est_positions['ecl_positions'][0]\n",
    "    estimates['pos2'] = est_positions['ecl_positions'][1]\n",
    "    estimates['width1'] = est_positions['ecl_widths'][0]\n",
    "    estimates['width2'] = est_positions['ecl_widths'][1]\n",
    "    \n",
    "    for key in result.keys():\n",
    "        assert(np.abs(estimates[key] - result[key]) < 2e-1)\n",
    "    \n",
    "\n",
    "def test_fit(model, result):\n",
    "    model.fit()\n",
    "    print(np.array(model.best_fit['param_vals'][0]) - \n",
    "              np.array(result['param_vals']))\n",
    "    assert((np.abs(\n",
    "              np.array(model.best_fit['param_vals'][0]) - \n",
    "              np.array(result['param_vals'])) < \n",
    "               1e-4*np.ones(len(model.best_fit['param_vals'][0]))).all())\n",
    "    \n",
    "def test_compute_ecl_params(model, result):\n",
    "    eb_dict = model.compute_eclipse_params()\n",
    "    for key in eb_dict.keys():\n",
    "        if key in result.keys():\n",
    "            assert(np.abs(eb_dict[key] - result[key]) < 1e-3)\n",
    "        else:\n",
    "            assert(np.isnan(eb_dict[key]))"
   ]
  },
  {
   "cell_type": "code",
   "execution_count": 3,
   "id": "1752d82a",
   "metadata": {},
   "outputs": [],
   "source": [
    "C = 1.\n",
    "mu1 = 0.\n",
    "sigma1 = 0.015\n",
    "d1 = 0.5\n",
    "mu2 = 0.42\n",
    "sigma2 = 0.01\n",
    "d2 = 0.35\n",
    "Aell = 0.05\n",
    "phi01 = 0.\n",
    "phi02 = 0.42"
   ]
  },
  {
   "cell_type": "code",
   "execution_count": 4,
   "id": "e6153543",
   "metadata": {},
   "outputs": [],
   "source": [
    "data_c = np.loadtxt('../data/const.csv', delimiter=',')\n",
    "data_cg = np.loadtxt('../data/cg.csv', delimiter=',')\n",
    "data_ce = np.loadtxt('../data/ce.csv', delimiter=',')\n",
    "data_cge = np.loadtxt('../data/cge.csv', delimiter=',')\n",
    "data_cg12 = np.loadtxt('../data/cg12.csv', delimiter=',')\n",
    "data_cg12e1 = np.loadtxt('../data/cg12e1.csv', delimiter=',')\n",
    "data_cg12e2 = np.loadtxt('../data/cg12e2.csv', delimiter=',')"
   ]
  },
  {
   "cell_type": "code",
   "execution_count": 5,
   "id": "5f1fc182",
   "metadata": {},
   "outputs": [],
   "source": [
    "model_c = test_initialize_data(data_c)\n",
    "model_cg = test_initialize_data(data_cg)\n",
    "model_ce = test_initialize_data(data_ce)\n",
    "model_cge = test_initialize_data(data_cge)\n",
    "model_cg12 = test_initialize_data(data_cg12)\n",
    "model_cg12e1 = test_initialize_data(data_cg12e1)\n",
    "model_cg12e2 = test_initialize_data(data_cg12e2)"
   ]
  },
  {
   "cell_type": "code",
   "execution_count": 6,
   "id": "28e32166",
   "metadata": {},
   "outputs": [],
   "source": [
    "model_cg12.fit(fit_funcs=['CG12'], param_vals = [[C,mu1,d1,sigma1,mu2,d2,sigma2]])"
   ]
  },
  {
   "cell_type": "code",
   "execution_count": 7,
   "id": "24c91947",
   "metadata": {},
   "outputs": [
    {
     "data": {
      "text/plain": [
       "{'primary_width': 0.08399999999999999,\n",
       " 'secondary_width': 0.055999999999999994,\n",
       " 'primary_position': 0.0,\n",
       " 'secondary_position': 0.42,\n",
       " 'primary_depth': 0.5019033838888669,\n",
       " 'secondary_depth': 0.3550553946726459,\n",
       " 'eclipse_edges': [-0.041999999999999996,\n",
       "  0.041999999999999996,\n",
       "  0.392,\n",
       "  0.44799999999999995]}"
      ]
     },
     "execution_count": 7,
     "metadata": {},
     "output_type": "execute_result"
    }
   ],
   "source": [
    "model_cg12.compute_eclipse_params()"
   ]
  },
  {
   "cell_type": "code",
   "execution_count": 8,
   "id": "a891506a",
   "metadata": {},
   "outputs": [
    {
     "data": {
      "text/plain": [
       "<matplotlib.lines.Line2D at 0x7fb20a9d35b0>"
      ]
     },
     "execution_count": 8,
     "metadata": {},
     "output_type": "execute_result"
    },
    {
     "data": {
      "image/png": "[encoded data removed]",
      "text/plain": [
       "<Figure size 432x288 with 1 Axes>"
      ]
     },
     "metadata": {
      "needs_background": "light"
     },
     "output_type": "display_data"
    }
   ],
   "source": [
    "plt.plot(model_cg12.phases, model_cg12.fluxes, 'k.')\n",
    "plt.plot(model_cg12.phases, model_cg12.model, 'r-')\n",
    "plt.axvline(x=model_cg12.best_fit['param_vals'][1], c='grey', ls='--')\n",
    "plt.axvline(x=model_cg12.best_fit['param_vals'][4], c='grey', ls='--')"
   ]
  },
  {
   "cell_type": "code",
   "execution_count": 11,
   "id": "83de0efb",
   "metadata": {},
   "outputs": [],
   "source": [
    "model_cg12e2.fit()"
   ]
  },
  {
   "cell_type": "code",
   "execution_count": 18,
   "id": "579cd86e",
   "metadata": {},
   "outputs": [
    {
     "data": {
      "text/plain": [
       "['C', 'mu1', 'd1', 'sigma1', 'mu2', 'd2', 'sigma2', 'Aell']"
      ]
     },
     "execution_count": 18,
     "metadata": {},
     "output_type": "execute_result"
    }
   ],
   "source": [
    "model_cg12e2.best_fit['param_vals'][0]\n",
    "model_cg12e2.best_fit['param_names']"
   ]
  },
  {
   "cell_type": "code",
   "execution_count": 19,
   "id": "018dc4e3",
   "metadata": {},
   "outputs": [
    {
     "data": {
      "text/plain": [
       "<matplotlib.lines.Line2D at 0x7fd6436f7400>"
      ]
     },
     "execution_count": 19,
     "metadata": {},
     "output_type": "execute_result"
    },
    {
     "data": {
      "image/png": "[encoded data removed]",
      "text/plain": [
       "<Figure size 432x288 with 1 Axes>"
      ]
     },
     "metadata": {
      "needs_background": "light"
     },
     "output_type": "display_data"
    }
   ],
   "source": [
    "plt.plot(model_cg12e2.phases, model_cg12e2.fluxes, 'k.')\n",
    "plt.plot(model_cg12e2.phases, model_cg12e2.best_fit['model'], 'r-')\n",
    "plt.axvline(x=model_cg12e2.best_fit['param_vals'][0][1], c='grey', ls='--')"
   ]
  },
  {
   "cell_type": "code",
   "execution_count": 21,
   "id": "4391c6eb",
   "metadata": {},
   "outputs": [],
   "source": [
    "def test_cg12e1():\n",
    "    data = np.loadtxt('../data/cg12e1.csv', delimiter=',')\n",
    "    model = TwoG(phases=data[:,0], fluxes=data[:,1], sigmas=data[:,2])\n",
    "    result_fit = {'func': 'CG12E', 'param_vals': [C, mu1, d1, sigma1, mu2, d2, sigma2, Aell, phi01]}\n",
    "    model.fit()\n",
    "    return model\n",
    "\n",
    "def test_cg12e2():\n",
    "    data = np.loadtxt('../data/cg12e2.csv', delimiter=',')\n",
    "    model = TwoG(phases=data[:,0], fluxes=data[:,1], sigmas=data[:,2])\n",
    "    result_fit = {'func': 'CG12E', 'param_vals': [C, mu1, d1, sigma1, mu2, d2, sigma2, Aell, phi02]}\n",
    "    model.fit()\n",
    "    return model"
   ]
  },
  {
   "cell_type": "code",
   "execution_count": 22,
   "id": "3b375106",
   "metadata": {},
   "outputs": [],
   "source": [
    "model_1 = test_cg12e1()\n",
    "model_2 = test_cg12e2()"
   ]
  },
  {
   "cell_type": "code",
   "execution_count": 23,
   "id": "b347e8c6",
   "metadata": {},
   "outputs": [
    {
     "data": {
      "text/plain": [
       "array([ 1.00002630e+00, -5.75952684e-06,  5.00008161e-01,  1.49946799e-02,\n",
       "        4.20044453e-01,  3.50974728e-01,  9.98439401e-03,  5.01088884e-02])"
      ]
     },
     "execution_count": 23,
     "metadata": {},
     "output_type": "execute_result"
    }
   ],
   "source": [
    "model_1.best_fit['param_vals'][0]"
   ]
  },
  {
   "cell_type": "code",
   "execution_count": 24,
   "id": "453bed6d",
   "metadata": {},
   "outputs": [
    {
     "data": {
      "text/plain": [
       "(array([  4.,  22.,  96., 225., 273., 229., 103.,  38.,   9.,   1.]),\n",
       " array([-0.03248747, -0.02539398, -0.0183005 , -0.01120701, -0.00411353,\n",
       "         0.00297996,  0.01007345,  0.01716693,  0.02426042,  0.0313539 ,\n",
       "         0.03844739]),\n",
       " <BarContainer object of 10 artists>)"
      ]
     },
     "execution_count": 24,
     "metadata": {},
     "output_type": "execute_result"
    },
    {
     "data": {
      "image/png": "[encoded data removed]",
      "text/plain": [
       "<Figure size 432x288 with 1 Axes>"
      ]
     },
     "metadata": {
      "needs_background": "light"
     },
     "output_type": "display_data"
    }
   ],
   "source": [
    "plt.hist((model_1.fluxes - model_1.best_fit['model']))"
   ]
  },
  {
   "cell_type": "code",
   "execution_count": 25,
   "id": "312a16f1",
   "metadata": {},
   "outputs": [
    {
     "data": {
      "text/plain": [
       "0.009781558290075385"
      ]
     },
     "execution_count": 25,
     "metadata": {},
     "output_type": "execute_result"
    }
   ],
   "source": [
    "np.std((model_1.fluxes - model_1.best_fit['model']))"
   ]
  },
  {
   "cell_type": "code",
   "execution_count": 15,
   "id": "8a08a6a9",
   "metadata": {},
   "outputs": [],
   "source": [
    "ecl=2\n",
    "mu_ind = model_1.best_fit['param_names']"
   ]
  },
  {
   "cell_type": "code",
   "execution_count": 24,
   "id": "a33d3b62",
   "metadata": {},
   "outputs": [
    {
     "data": {
      "text/plain": [
       "['C', 'mu1', 'd1', 'sigma1', 'mu2', 'd2', 'sigma2', 'Aell', 'phi0']"
      ]
     },
     "execution_count": 24,
     "metadata": {},
     "output_type": "execute_result"
    }
   ],
   "source": [
    "model_1.best_fit['param_names']"
   ]
  },
  {
   "cell_type": "code",
   "execution_count": 17,
   "id": "04feb068",
   "metadata": {},
   "outputs": [
    {
     "data": {
      "text/plain": [
       "(0.00016319903687338254, 0.009781973714560828)"
      ]
     },
     "execution_count": 17,
     "metadata": {},
     "output_type": "execute_result"
    }
   ],
   "source": [
    "model_1.compute_residuals_stdev()"
   ]
  },
  {
   "cell_type": "code",
   "execution_count": 21,
   "id": "796937e1",
   "metadata": {},
   "outputs": [
    {
     "name": "stdout",
     "output_type": "stream",
     "text": [
      "1 3 2\n"
     ]
    },
    {
     "data": {
      "text/plain": [
       "0.018697296609825834"
      ]
     },
     "execution_count": 21,
     "metadata": {},
     "output_type": "execute_result"
    }
   ],
   "source": [
    "model_1.compute_eclipse_area(ecl=1)"
   ]
  },
  {
   "cell_type": "code",
   "execution_count": null,
   "id": "23b8a304",
   "metadata": {},
   "outputs": [],
   "source": []
  }
 ],
 "metadata": {
  "kernelspec": {
   "display_name": "Python 3",
   "language": "python",
   "name": "python3"
  },
  "language_info": {
   "codemirror_mode": {
    "name": "ipython",
    "version": 3
   },
   "file_extension": ".py",
   "mimetype": "text/x-python",
   "name": "python",
   "nbconvert_exporter": "python",
   "pygments_lexer": "ipython3",
   "version": "3.8.5"
  }
 },
 "nbformat": 4,
 "nbformat_minor": 5
}
