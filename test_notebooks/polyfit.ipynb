{
 "cells": [
  {
   "cell_type": "code",
   "execution_count": 1,
   "id": "d92fe8fc",
   "metadata": {},
   "outputs": [],
   "source": [
    "import numpy as np\n",
    "import matplotlib.pyplot as plt\n",
    "from operator import itemgetter\n",
    "from itertools import groupby\n",
    "from scipy.optimize import minimize"
   ]
  },
  {
   "cell_type": "code",
   "execution_count": 2,
   "id": "a08fac55",
   "metadata": {},
   "outputs": [],
   "source": [
    "def find_knots(data, min_chain_length=8, verbose=False):\n",
    "    mean = data[:,1].mean()\n",
    "    lt = np.where(data[:,1]<mean)[0]\n",
    "    \n",
    "    chains = []\n",
    "    for k, g in groupby(enumerate(lt), lambda ix: ix[0]-ix[1]):\n",
    "        chain = list(map(itemgetter(1), g))\n",
    "        if len(chain) > min_chain_length:\n",
    "            chains.append(chain)\n",
    "    if verbose:\n",
    "        print(f'{len(chains)} chains found.')\n",
    "    if len(chains) < 2:\n",
    "        return np.array((-0.4, -0.1, 0.1, 0.4))\n",
    "    elif len(chains) == 2:\n",
    "        return np.sort((data[chains[0][0],0], data[chains[0][-1],0], data[chains[1][0],0], data[chains[1][-1],0]))\n",
    "    else:\n",
    "        lengths = np.array([len(chain) in chains])\n",
    "        l = np.argsort(lengths)[::-1]\n",
    "        return np.sort((data[chains[l[0]][0],0], data[chains[l[0]][-1],0], data[chains[l[1]][0],0], data[chains[l[1]][-1],0]))"
   ]
  },
  {
   "cell_type": "code",
   "execution_count": 3,
   "id": "cb016b0d",
   "metadata": {},
   "outputs": [],
   "source": [
    "def build_A_matrix(data, segs, knots):\n",
    "    A = np.zeros(shape=(len(data),9))\n",
    "\n",
    "    A[:segs[0],0] = data[:segs[0],0]**2\n",
    "    A[segs[0]:,0] = knots[1]**2\n",
    "    A[:segs[0],1] = data[:segs[0],0]\n",
    "    A[segs[0]:,1] = knots[1]\n",
    "    A[:,2] = 1.0\n",
    "\n",
    "    for k in range(3):\n",
    "        A[segs[k]:segs[k+1],3+2*k] = data[segs[k]:segs[k+1],0]**2-knots[k+1]**2\n",
    "        A[segs[k]:segs[k+1],4+2*k] = data[segs[k]:segs[k+1],0]-knots[k+1]\n",
    "        for j in range(k):\n",
    "            A[segs[k]:segs[k+1],3+2*j] = knots[j+2]**2-knots[j+1]**2\n",
    "            A[segs[k]:segs[k+1],4+2*j] = knots[j+2]-knots[j+1]\n",
    "    \n",
    "    return A"
   ]
  },
  {
   "cell_type": "code",
   "execution_count": 4,
   "id": "f2427d93",
   "metadata": {},
   "outputs": [],
   "source": [
    "def polyfit(knots, data, min_pts_per_segment=5, return_ck=False):\n",
    "    sdata = data.copy()\n",
    "    sdata[:,0][sdata[:,0] < knots[0]] += 1\n",
    "    sdata = sdata[sdata[:,0].argsort()]\n",
    "\n",
    "    segs = [np.argmax(sdata[:,0]>knot) for knot in knots[1:]] + [len(sdata)]\n",
    "    if np.ediff1d(segs).min() < min_pts_per_segment:\n",
    "        return 1e10\n",
    "\n",
    "    A = build_A_matrix(sdata, segs, knots)\n",
    "    ck, ssr, rank, svd = np.linalg.lstsq(A, sdata[:,1], rcond=None)\n",
    "    \n",
    "    if return_ck:\n",
    "        return ck, ssr\n",
    "    return ssr"
   ]
  },
  {
   "cell_type": "code",
   "execution_count": 5,
   "id": "3f2b2a1b",
   "metadata": {},
   "outputs": [],
   "source": [
    "def coeffs(ck, knots, verbose=False):\n",
    "    c0 = ck[2]\n",
    "    c1 = (ck[0]-ck[3])*knots[1]**2 + (ck[1]-ck[4])*knots[1] + c0\n",
    "    c2 = (ck[3]-ck[5])*knots[2]**2 + (ck[4]-ck[6])*knots[2] + c1\n",
    "    c3 = (ck[5]-ck[7])*knots[3]**2 + (ck[6]-ck[8])*knots[3] + c2\n",
    "    \n",
    "    if verbose:\n",
    "        print(f'segment 1:\\n {knots[0]} < x <= {knots[1]}, a0={ck[0]} b0={ck[1]} c0={c0}')\n",
    "        print(f'segment 2:\\n {knots[1]} < x <= {knots[2]}, a0={ck[3]} b0={ck[4]} c0={c1}')\n",
    "        print(f'segment 3:\\n {knots[2]} < x <= {knots[3]}, a0={ck[5]} b0={ck[6]} c0={c2}')\n",
    "        print(f'segment 4:\\n {knots[3]} < x <= {knots[0]+1}, a0={ck[7]} b0={ck[8]} c0={c3}')\n",
    "    \n",
    "    return ((ck[0], ck[1], c0), (ck[3], ck[4], c1), (ck[5], ck[6], c2), (ck[7], ck[8], c3))"
   ]
  },
  {
   "cell_type": "code",
   "execution_count": 6,
   "id": "902b62a6",
   "metadata": {},
   "outputs": [],
   "source": [
    "def extremes(coeffs, knots):\n",
    "    exts = [-c[1]/2/c[0] for c in coeffs]\n",
    "    knots = np.concatenate((knots, [knots[0]+1]))\n",
    "    for k in range(4):\n",
    "        if exts[k] < knots[k] or exts[k] > knots[k+1]:\n",
    "            exts[k] = np.nan\n",
    "    return np.array(exts)"
   ]
  },
  {
   "cell_type": "code",
   "execution_count": 7,
   "id": "2a5e440d",
   "metadata": {},
   "outputs": [],
   "source": [
    "def remap(d, xmin, xmax, sort=True):\n",
    "    ncols = 1 if len(d.shape) == 1 else d.shape[1]\n",
    "    x = d if ncols == 1 else d[:,0]\n",
    "\n",
    "    while len(x[x<xmin]) > 0:\n",
    "        x[x<xmin] += 1\n",
    "    while len(x[x>xmax]) > 0:\n",
    "        x[x>xmax] -= 1\n",
    "    \n",
    "    if sort and ncols > 1:\n",
    "        d = d[d[:,0].argsort()]\n",
    "    else:\n",
    "        d.sort()\n",
    "\n",
    "    return d"
   ]
  },
  {
   "cell_type": "code",
   "execution_count": 8,
   "id": "f631fe69",
   "metadata": {},
   "outputs": [],
   "source": [
    "def fv(x, cks, knots, xmin=-0.5, xmax=0.5):\n",
    "    x[x<knots[0]] += 1\n",
    "    y = np.empty_like(x)\n",
    "    for k in range(len(knots)-1):\n",
    "        s = (x>=knots[k]) & (x<knots[k+1])\n",
    "        y[s] = cks[k][0]*x[s]**2 + cks[k][1]*x[s] + cks[k][2]\n",
    "    s = x>=knots[3]\n",
    "    y[s] = cks[3][0]*x[s]**2 + cks[3][1]*x[s] + cks[3][2]\n",
    "    \n",
    "    return y"
   ]
  },
  {
   "cell_type": "code",
   "execution_count": 9,
   "id": "cd4b8219",
   "metadata": {},
   "outputs": [],
   "source": [
    "def plot(data, coeffs, knots, extremes, x=None, xmin=-0.5, xmax=0.5):\n",
    "    if x is None:\n",
    "        x = data[:,0]\n",
    "    \n",
    "    y = fv(x, coeffs, knots)\n",
    "    d = np.vstack((x, y)).T\n",
    "    \n",
    "    remap(data, xmin, xmax)\n",
    "    d = remap(d, xmin, xmax)\n",
    "    remap(extremes, xmin, xmax)\n",
    "    \n",
    "    plt.plot(data[:,0], data[:,1], 'b.')\n",
    "    plt.plot(d[:,0], d[:,1], 'r-')\n",
    "    \n",
    "    for k in range(4):\n",
    "        plt.axvline(extremes[k], ls='--')\n",
    "    plt.show()"
   ]
  },
  {
   "cell_type": "code",
   "execution_count": 10,
   "id": "750275b7",
   "metadata": {},
   "outputs": [],
   "source": [
    "def run_polyfit(data):\n",
    "    sdata = data[data[:,0].argsort()]\n",
    "    knots = find_knots(sdata)\n",
    "    solution = minimize(polyfit, knots, args=(data,), method='Nelder-Mead')\n",
    "    knots = solution.x\n",
    "    ck, ssr = polyfit(knots, data, return_ck=True)\n",
    "    final_coeffs = coeffs(ck, knots)\n",
    "    final_extremes = extremes(final_coeffs, knots)\n",
    "    return knots, final_coeffs, final_extremes, ssr"
   ]
  },
  {
   "cell_type": "code",
   "execution_count": 11,
   "id": "6f6d122f",
   "metadata": {},
   "outputs": [
    {
     "data": {
      "image/png": "[encoded data removed]",
      "text/plain": [
       "<Figure size 432x288 with 1 Axes>"
      ]
     },
     "metadata": {
      "needs_background": "light"
     },
     "output_type": "display_data"
    },
    {
     "name": "stdout",
     "output_type": "stream",
     "text": [
      "[0.3470799]\n"
     ]
    }
   ],
   "source": [
    "data = np.loadtxt('lc.dat')\n",
    "knots, cks, exs, ssr = run_polyfit(data)\n",
    "plot(data, cks, knots, exs)\n",
    "print(ssr)"
   ]
  },
  {
   "cell_type": "code",
   "execution_count": null,
   "id": "5dc8f8e4",
   "metadata": {},
   "outputs": [],
   "source": []
  }
 ],
 "metadata": {
  "kernelspec": {
   "display_name": "Python 3",
   "language": "python",
   "name": "python3"
  },
  "language_info": {
   "codemirror_mode": {
    "name": "ipython",
    "version": 3
   },
   "file_extension": ".py",
   "mimetype": "text/x-python",
   "name": "python",
   "nbconvert_exporter": "python",
   "pygments_lexer": "ipython3",
   "version": "3.8.5"
  }
 },
 "nbformat": 4,
 "nbformat_minor": 5
}
