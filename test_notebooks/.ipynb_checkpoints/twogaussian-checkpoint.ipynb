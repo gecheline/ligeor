{
 "cells": [
  {
   "cell_type": "code",
   "execution_count": 1,
   "id": "medium-luxembourg",
   "metadata": {},
   "outputs": [],
   "source": [
    "from ligeor import TwoGaussianModel as TwoG\n",
    "import numpy as np"
   ]
  },
  {
   "cell_type": "code",
   "execution_count": 2,
   "id": "split-heater",
   "metadata": {},
   "outputs": [],
   "source": [
    "def test_initialize_filename(filename, data):\n",
    "    model = TwoG(filename=filename, n_downsample=1, delimiter=',')\n",
    "    assert(((model.phases == data[:,0]) & (model.fluxes == data[:,1]) & (model.sigmas == data[:,2])).all())\n",
    "\n",
    "    \n",
    "def test_initialize_data(data):\n",
    "    model = TwoG(phases=data[:,0], fluxes=data[:,1], sigmas=data[:,2])\n",
    "    assert(((model.phases == data[:,0]) & (model.fluxes == data[:,1]) & (model.sigmas == data[:,2])).all())\n",
    "    return model\n",
    "\n",
    "\n",
    "def test_estimate_ecl_pos_widths(model, result):\n",
    "    est_positions = model.estimate_eclipse_positions_widths(model.phases, model.fluxes)\n",
    "    estimates = {}\n",
    "    estimates['pos1'] = est_positions['ecl_positions'][0]\n",
    "    estimates['pos2'] = est_positions['ecl_positions'][1]\n",
    "    estimates['width1'] = est_positions['ecl_widths'][0]\n",
    "    estimates['width2'] = est_positions['ecl_widths'][1]\n",
    "    \n",
    "    for key in result.keys():\n",
    "        assert(np.abs(estimates[key] - result[key]) < 2e-1)\n",
    "    \n",
    "\n",
    "def test_fit(model, result):\n",
    "    model.fit()\n",
    "    assert(((model.best_fit['func'] == result['func'])\n",
    "          & np.abs(\n",
    "              np.array(model.best_fit['param_vals']) - \n",
    "              np.array(result['param_vals'])) < \n",
    "               1e-4*np.ones(len(model.best_fit['param_vals']))).all())\n",
    "    return model\n",
    "    \n",
    "    \n",
    "def test_compute_ecl_params(model, result):\n",
    "    eb_dict = model.compute_eclipse_params()\n",
    "    for key in eb_dict.keys():\n",
    "        if key in result.keys():\n",
    "            assert(np.abs(eb_dict[key] - result[key]) < 1e-4)\n",
    "        else:\n",
    "            assert(np.isnan(eb_dict[key]))"
   ]
  },
  {
   "cell_type": "code",
   "execution_count": 3,
   "id": "african-sellers",
   "metadata": {},
   "outputs": [],
   "source": [
    "C = 1.\n",
    "mu1 = 0.\n",
    "sigma1 = 0.015\n",
    "d1 = 0.5\n",
    "mu2 = 0.42\n",
    "sigma2 = 0.01\n",
    "d2 = 0.35\n",
    "Aell = 0.05"
   ]
  },
  {
   "cell_type": "code",
   "execution_count": 9,
   "id": "blocked-catalog",
   "metadata": {},
   "outputs": [
    {
     "data": {
      "text/plain": [
       "0.055999999999999994"
      ]
     },
     "execution_count": 9,
     "metadata": {},
     "output_type": "execute_result"
    }
   ],
   "source": [
    "5.6*sigma2"
   ]
  },
  {
   "cell_type": "code",
   "execution_count": 4,
   "id": "defined-quest",
   "metadata": {},
   "outputs": [],
   "source": [
    "data_c = np.loadtxt('../data/const.csv', delimiter=',')\n",
    "data_cg = np.loadtxt('../data/cg.csv', delimiter=',')\n",
    "data_ce = np.loadtxt('../data/ce.csv', delimiter=',')\n",
    "data_cge = np.loadtxt('../data/cge.csv', delimiter=',')\n",
    "data_cg12 = np.loadtxt('../data/cg12.csv', delimiter=',')\n",
    "data_cg12e1 = np.loadtxt('../data/cg12e1.csv', delimiter=',')\n",
    "data_cg12e2 = np.loadtxt('../data/cg12e2.csv', delimiter=',')"
   ]
  },
  {
   "cell_type": "code",
   "execution_count": 5,
   "id": "missing-scholar",
   "metadata": {},
   "outputs": [],
   "source": [
    "model_c = test_initialize_data(data_c)\n",
    "model_cg = test_initialize_data(data_cg)\n",
    "model_ce = test_initialize_data(data_ce)\n",
    "model_cge = test_initialize_data(data_cge)\n",
    "model_cg12 = test_initialize_data(data_cg12)\n",
    "model_cg12e1 = test_initialize_data(data_cg12e1)\n",
    "model_cg12e2 = test_initialize_data(data_cg12e2)"
   ]
  },
  {
   "cell_type": "code",
   "execution_count": 6,
   "id": "coupled-costa",
   "metadata": {},
   "outputs": [],
   "source": [
    "model_cg12.fit()"
   ]
  },
  {
   "cell_type": "code",
   "execution_count": 7,
   "id": "dependent-proposition",
   "metadata": {},
   "outputs": [
    {
     "data": {
      "text/plain": [
       "{'primary_width': 0.08397733031426795,\n",
       " 'secondary_width': 0.05591492559690673,\n",
       " 'primary_position': -5.226922544042973e-06,\n",
       " 'secondary_position': 0.4200453527268567,\n",
       " 'primary_depth': 0.5019130359030761,\n",
       " 'secondary_depth': 0.3550650466868551,\n",
       " 'eclipse_edges': [-0.04199389207967802,\n",
       "  0.04198343823458993,\n",
       "  0.3920878899284034,\n",
       "  0.44800281552531007]}"
      ]
     },
     "execution_count": 7,
     "metadata": {},
     "output_type": "execute_result"
    }
   ],
   "source": [
    "model_cg12.compute_eclipse_params()"
   ]
  },
  {
   "cell_type": "code",
   "execution_count": 51,
   "id": "jewish-cherry",
   "metadata": {},
   "outputs": [
    {
     "name": "stdout",
     "output_type": "stream",
     "text": [
      "C = 1.0000096520142092\n",
      "mu1 = -5.226922544042973e-06\n",
      "d1 = 0.5000484093504197\n",
      "sigma1 = 0.014995951841833563\n",
      "mu2 = 0.4200453527268567\n",
      "d2 = 0.35099414346657076\n",
      "sigma2 = 0.009984808142304773\n"
     ]
    }
   ],
   "source": [
    "for name, value in zip(model_cg12.best_fit['param_names'], model_cg12.best_fit['param_vals'][0]):\n",
    "    print(f'{name} = {value}')"
   ]
  },
  {
   "cell_type": "code",
   "execution_count": null,
   "id": "automatic-rebecca",
   "metadata": {},
   "outputs": [],
   "source": []
  }
 ],
 "metadata": {
  "kernelspec": {
   "display_name": "Python 3",
   "language": "python",
   "name": "python3"
  },
  "language_info": {
   "codemirror_mode": {
    "name": "ipython",
    "version": 3
   },
   "file_extension": ".py",
   "mimetype": "text/x-python",
   "name": "python",
   "nbconvert_exporter": "python",
   "pygments_lexer": "ipython3",
   "version": "3.8.5"
  }
 },
 "nbformat": 4,
 "nbformat_minor": 5
}
